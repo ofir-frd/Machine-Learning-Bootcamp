{
 "cells": [
  {
   "cell_type": "markdown",
   "id": "a5bbc4ef",
   "metadata": {},
   "source": [
    "# Section 1:"
   ]
  },
  {
   "cell_type": "code",
   "execution_count": 17,
   "id": "c0ffaf46",
   "metadata": {},
   "outputs": [],
   "source": [
    "import numpy as np"
   ]
  },
  {
   "cell_type": "markdown",
   "id": "87ac2fd1",
   "metadata": {},
   "source": [
    "## Answer the following questions:\n",
    "1. What is a class?\n",
    "A defined entity that contains unique variables and functionality.\n",
    "\n",
    "2. What is an instance?\n",
    "An instance is a signle variable/object of a class.\n",
    "\n",
    "3. What is encapsulation?\n",
    "The closure of the within the class that prevents outside changes.\n",
    "\n",
    "4. What is inheritance?\n",
    "Import of a class to a second class.\n",
    "The second class can implement all within the first class and expend.\n",
    "\n",
    "5. What is polymorphism?\n",
    "The parallel existance of a variables or functionality in sevreal different objects.\n",
    "\n",
    "6.What is overloading and overriding?\n",
    "overloading: Duplicating the same function within the same object.\n",
    "python does not support method overloading\n",
    "\n",
    "Overriding is an ability that allows a subclass or child class to provide a specific implementation \n",
    "of a method that is already provided by one of its super-classes or parent classes.\n",
    "\n",
    "\n"
   ]
  },
  {
   "cell_type": "markdown",
   "id": "99e90aab",
   "metadata": {},
   "source": [
    "# Section 2:\n"
   ]
  },
  {
   "cell_type": "code",
   "execution_count": 4,
   "id": "c0f8096b",
   "metadata": {},
   "outputs": [],
   "source": [
    "#Create a Class called “Point” with x,y values.\n",
    "class Point:\n",
    "    def __init__(self, x=0, y=0):\n",
    "        self.__x = x\n",
    "        self.__y = y\n",
    "\n",
    "    #Write a getter for x and y - get_x(), get_y()\n",
    "    def get_x(self):\n",
    "        return self.__x\n",
    "    \n",
    "    def get_y(self):\n",
    "        return self.__y\n",
    "    \n",
    "    #Write a setter for x and y - set_x(), sey_y()\n",
    "    def set_x(self, x):\n",
    "        self.__x = x\n",
    "    \n",
    "    def set_y(self, y):\n",
    "        self.__y = y\n",
    "    \n",
    "    #Write an __str__ method which returns x and y as a string.\n",
    "    def __str__(self):\n",
    "        return ('x = {}, y = {}' .format(self.__x, self.__y))\n",
    "        \n",
    "    #Write a distance function which gets another point\n",
    "    #called “other” and returns the distance between them.\n",
    "    def distance(self, other):\n",
    "        return ((self.__x - other.__x)**2 + (self.__y - other.__y)**2)**0.5\n",
    "    "
   ]
  },
  {
   "cell_type": "code",
   "execution_count": 5,
   "id": "6e07f5bd",
   "metadata": {},
   "outputs": [
    {
     "name": "stdout",
     "output_type": "stream",
     "text": [
      "1st point x = 1, y = 1, 2nd point x = 2, y = 2, and their distance 1.4142135623730951\n"
     ]
    }
   ],
   "source": [
    "#Create 2 point instances, print each of them and calc the distance between them.\n",
    "pointA = Point(1,1)\n",
    "pointB = Point(2,2)\n",
    "\n",
    "print('1st point {}, 2nd point {}, and their distance {}' .format(pointA, pointB, pointA.distance(pointB)))"
   ]
  },
  {
   "cell_type": "code",
   "execution_count": 6,
   "id": "fbfbea78",
   "metadata": {},
   "outputs": [],
   "source": [
    "#**bonus Create a Class called “Line” which gets 2 points, computes the distance between\n",
    "#them, and an on_line function that computes if a point is on the line or not.\n",
    "\n",
    "class Line():\n",
    "    def __init__(self, x1=1, y1=1, x2=2, y2=2):\n",
    "        self.__point01 = Point(x1,y1)\n",
    "        self.__point02 = Point(x2,y2)\n",
    "\n",
    "    def __str__(self):\n",
    "        return ('Point01: {}, Point02: {}' .format(self.__point01, self.__point02))\n",
    "\n",
    "    def compute_distace(self):\n",
    "        return self.__point01.distance(self.__point02)\n",
    "    \n",
    "    def calculate_slope(self):\n",
    "        return ((self.__point02.get_y() - self.__point01.get_y()) / (self.__point02.get_x() - self.__point01.get_x()))\n",
    "    \n",
    "    def find_b_constant(self):\n",
    "        return self.calculate_slope() * self.__point02.get_x() - self.__point02.get_y()\n",
    "              \n",
    "    def calculate_y_value(self, new_point):\n",
    "        return self.calculate_slope() * new_point.get_x() + self.find_b_constant()\n",
    "        \n",
    "    def on_line(self, new_point):\n",
    "        return self.calculate_y_value(new_point) == new_point.get_y()\n",
    "    \n",
    "    "
   ]
  },
  {
   "cell_type": "code",
   "execution_count": 7,
   "id": "cede7179",
   "metadata": {},
   "outputs": [
    {
     "name": "stdout",
     "output_type": "stream",
     "text": [
      "Point01: x = 1, y = 1, Point02: x = 2, y = 2\n",
      "1.4142135623730951\n",
      "True\n",
      "False\n"
     ]
    }
   ],
   "source": [
    "my_line = Line(1,1,2,2)\n",
    "print(my_line)\n",
    "print(my_line.compute_distace())\n",
    "\n",
    "print(my_line.on_line(Point(3,3)))\n",
    "print(my_line.on_line(Point(3,5)))"
   ]
  },
  {
   "cell_type": "markdown",
   "id": "ae072899",
   "metadata": {},
   "source": [
    "# Section 3:"
   ]
  },
  {
   "cell_type": "markdown",
   "id": "dbf38732",
   "metadata": {},
   "source": [
    "Every class should have a constructor.\n",
    "\n",
    "We will create classes called “Shape” ,”Rectangle” and ”Triangle”, those 2 classes will inherit their functionality from the “shape” class."
   ]
  },
  {
   "cell_type": "markdown",
   "id": "c3d97a78",
   "metadata": {},
   "source": [
    "In the “shape” class:\n",
    "\n",
    "Write a constructor ( __init__ ) which gets a list of points.\n",
    "\n",
    "Write the area and perimeter methods.\n",
    "\n",
    "Each method receives a list of points and returns a float value.\n",
    "\n",
    "(For now let's assume the calculation is on a Rectangle).\n",
    "\n",
    "Write an __str__ method, return all its method names as a string."
   ]
  },
  {
   "cell_type": "code",
   "execution_count": 49,
   "id": "99531906",
   "metadata": {},
   "outputs": [],
   "source": [
    "class shape():\n",
    "    def __init__(self, pointA=np.array([0,0]), pointB=np.array([0,5]), pointC=np.array([5,5]), pointD=np.array([5,0]), radius=1):\n",
    "        self.a = Point(pointA[0],pointA[1])\n",
    "        self.b = Point(pointB[0],pointB[1])\n",
    "        self.c = Point(pointC[0],pointC[1])\n",
    "        self.d = Point(pointD[0],pointD[1])\n",
    "    \n",
    "    def calculate_perimeter_circle(self, radius):\n",
    "        return 2*np.pi*radius\n",
    "    \n",
    "    def calculate_area_circle(self, radius):\n",
    "        return np.pi*(radius**2)\n",
    "    \n",
    "    def calculate_area(self):\n",
    "        return float(self.a.distance(self.b)*self.b.distance(self.c))\n",
    "    \n",
    "    def calculate_perimeter(self):\n",
    "        return float(self.a.distance(self.b)+self.b.distance(self.c)+self.c.distance(self.d)+self.d.distance(self.a))\n",
    "    \n",
    "    def __str__(self):\n",
    "     #   return 'a: {}, b: {}, c: {}, d: {}' .format(str(self.__a),str(self.__b),str(self.__c),str(self.__d))\n",
    "        return ('area: {}, perimeter: {}' .format(self.calculate_area(), self.calculate_perimeter()))\n",
    "        "
   ]
  },
  {
   "cell_type": "code",
   "execution_count": 9,
   "id": "a5caa2b9",
   "metadata": {},
   "outputs": [
    {
     "name": "stdout",
     "output_type": "stream",
     "text": [
      "area: 25.0, perimeter: 20.0\n"
     ]
    }
   ],
   "source": [
    "# testing shape class\n",
    "test_shape = shape()\n",
    "print(test_shape)"
   ]
  },
  {
   "cell_type": "markdown",
   "id": "477a4eda",
   "metadata": {},
   "source": [
    "In the “Rectangle” class:\n",
    "\n",
    "Write a constructor which gets a list of points.\n",
    "(you can use the shape constructor inside your class constructor)\n",
    "\n",
    "Write area and perimeter methods.\n",
    "(These methods will use the ready-made “shape” methods)\n",
    "\n",
    "Change the __str__ method so it will return all instance points (as a string) its\n",
    "area and its perimeter.\n",
    "\n",
    "Create a “Rectangle” instance and print it."
   ]
  },
  {
   "cell_type": "code",
   "execution_count": 10,
   "id": "049bc40a",
   "metadata": {},
   "outputs": [],
   "source": [
    "class Rectangle(shape):\n",
    "    def __init__(self, pointA=np.array([0,0]), pointB=np.array([0,5]), pointC=np.array([5,5]), pointD=np.array([5,0])):\n",
    "        super().__init__(pointA, pointB, pointC, pointD)\n",
    "        \n",
    "        \n",
    "    def __str__(self):    \n",
    "        return 'a: {}, b: {}, c: {}, d: {}, area: {}, perimeter: {}' .format(str(self.a),str(self.b),str(self.c),str(self.d),str(self.calculate_area()),str(self.calculate_perimeter()))\n"
   ]
  },
  {
   "cell_type": "code",
   "execution_count": 11,
   "id": "b172ce77",
   "metadata": {},
   "outputs": [
    {
     "name": "stdout",
     "output_type": "stream",
     "text": [
      "a: x = 0, y = 0, b: x = 0, y = 5, c: x = 5, y = 5, d: x = 5, y = 0, area: 25.0, perimeter: 20.0\n"
     ]
    }
   ],
   "source": [
    "# testing Rectangle class\n",
    "test_rectangle = Rectangle()\n",
    "print(test_rectangle)\n"
   ]
  },
  {
   "cell_type": "markdown",
   "id": "a8d7483e",
   "metadata": {},
   "source": [
    "In the “Triangle” class:\n",
    "\n",
    "Write a constructor which gets a list of points.\n",
    "\n",
    "Write area and perimeter methods.\n",
    "(you may need to change the returned value this time)\n",
    "\n",
    "Change the __str__ method so it will return all its points (as a string) its area and\n",
    "its perimeter.\n",
    "\n",
    "Create a “Triangle” instance and print it."
   ]
  },
  {
   "cell_type": "code",
   "execution_count": 31,
   "id": "9d90a127",
   "metadata": {},
   "outputs": [],
   "source": [
    "class Triangle(shape):\n",
    "    def __init__(self, pointA=np.array([0,0]), pointB=np.array([0,5]), pointC=np.array([2.5,2.5])):\n",
    "        super().__init__(pointA, pointB, pointC)\n",
    "       \n",
    "    def calculate_area(self): \n",
    "        points_abc = np.column_stack(((np.array([self.a.get_x(),self.a.get_y()])),(np.array([self.b.get_x(),self.b.get_y()]), (np.array([self.c.get_x(),self.c.get_y()])))))\n",
    "        x_ones = np.ones((1,3))\n",
    "        full_determinant = (np.vstack((points_abc, x_ones)))\n",
    "        return float(0.5*abs(np.linalg.det(full_determinant)))\n",
    "        \n",
    "    def calculate_perimeter(self):\n",
    "        return float(self.a.distance(self.b)+self.b.distance(self.c)+self.c.distance(self.a))\n",
    "            \n",
    "        \n",
    "    def __str__(self):    \n",
    "        return 'a: {}, b: {}, c: {}, area: {}, perimeter: {}' .format(str(self.a),str(self.b),str(self.c),str(self.calculate_area()),str(self.calculate_perimeter()))\n",
    " \n"
   ]
  },
  {
   "cell_type": "code",
   "execution_count": 32,
   "id": "e0f6b1e0",
   "metadata": {},
   "outputs": [
    {
     "name": "stdout",
     "output_type": "stream",
     "text": [
      "a: x = 0, y = 0, b: x = 0, y = 5, c: x = 2.5, y = 2.5, area: 6.250000000000001, perimeter: 12.071067811865476\n"
     ]
    }
   ],
   "source": [
    "# testing Triangle class\n",
    "test_triangle = Triangle()\n",
    "print(test_triangle)"
   ]
  },
  {
   "cell_type": "markdown",
   "id": "87b1e780",
   "metadata": {},
   "source": [
    "Create a “Circle” class ,this class should inherit from the “Shape” class.\n",
    "(a circle has a point and a radius)\n",
    "\n",
    "Change the “shape” methods so it can handle a circle.\n",
    "\n",
    "Change the __str__ method so it will return all its points (as a string) its area and\n",
    "its perimeter.\n",
    "\n",
    "Write an __eq__(self, other) magic method that checks if this circle is equal to “other”\n",
    "circle or not.\n",
    "\n",
    "Create 2 Circle instances, print each of them and check if they are equal."
   ]
  },
  {
   "cell_type": "code",
   "execution_count": 50,
   "id": "6d2ab595",
   "metadata": {},
   "outputs": [],
   "source": [
    "class Circle(shape):\n",
    "    def __init__(self, pointA=np.array([0,0]), radius = 1):\n",
    "        super().__init__(pointA)\n",
    "        self.radius = radius\n",
    "        \n",
    "    def eq(self, other):\n",
    "        return self.calculate_area_circle(self.radius) == other.calculate_area_circle(other.radius)\n",
    "    \n",
    "    def __str__(self):\n",
    "        return 'center: {}, radius: {}, area: {}, perimeter: {}' .format(str(self.a),str(self.radius),str(self.calculate_area_circle(self.radius)),str(self.calculate_perimeter_circle(self.radius)))\n",
    " "
   ]
  },
  {
   "cell_type": "code",
   "execution_count": 52,
   "id": "f78cbf4d",
   "metadata": {},
   "outputs": [
    {
     "name": "stdout",
     "output_type": "stream",
     "text": [
      "center: x = 0, y = 0, radius: 1, area: 3.141592653589793, perimeter: 6.283185307179586\n"
     ]
    }
   ],
   "source": [
    "# testing Circle class\n",
    "test_circle = Circle()\n",
    "print(test_circle)"
   ]
  },
  {
   "cell_type": "code",
   "execution_count": 55,
   "id": "78f33abc",
   "metadata": {},
   "outputs": [
    {
     "name": "stdout",
     "output_type": "stream",
     "text": [
      "True\n",
      "True\n",
      "False\n"
     ]
    }
   ],
   "source": [
    "test_circle2 = Circle(np.array([1,1]), 1)\n",
    "test_circle3 = Circle(np.array([0,0]), 2)\n",
    "\n",
    "print(test_circle.eq(test_circle))\n",
    "print(test_circle.eq(test_circle2))\n",
    "print(test_circle.eq(test_circle3))\n"
   ]
  },
  {
   "cell_type": "code",
   "execution_count": null,
   "id": "56afbd1a",
   "metadata": {},
   "outputs": [],
   "source": []
  }
 ],
 "metadata": {
  "kernelspec": {
   "display_name": "Python 3",
   "language": "python",
   "name": "python3"
  },
  "language_info": {
   "codemirror_mode": {
    "name": "ipython",
    "version": 3
   },
   "file_extension": ".py",
   "mimetype": "text/x-python",
   "name": "python",
   "nbconvert_exporter": "python",
   "pygments_lexer": "ipython3",
   "version": "3.8.8"
  }
 },
 "nbformat": 4,
 "nbformat_minor": 5
}
