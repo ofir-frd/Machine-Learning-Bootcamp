{
 "cells": [
  {
   "cell_type": "markdown",
   "id": "a5bbc4ef",
   "metadata": {},
   "source": [
    "# Section 1:"
   ]
  },
  {
   "cell_type": "code",
   "execution_count": 17,
   "id": "c0ffaf46",
   "metadata": {},
   "outputs": [],
   "source": [
    "import numpy as np"
   ]
  }
}
